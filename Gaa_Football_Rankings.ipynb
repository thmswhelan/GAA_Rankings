{
  "nbformat": 4,
  "nbformat_minor": 0,
  "metadata": {
    "colab": {
      "provenance": [],
      "authorship_tag": "ABX9TyN6bw0fY26VcMWvdCNnaLpM",
      "include_colab_link": true
    },
    "kernelspec": {
      "name": "python3",
      "display_name": "Python 3"
    },
    "language_info": {
      "name": "python"
    }
  },
  "cells": [
    {
      "cell_type": "markdown",
      "metadata": {
        "id": "view-in-github",
        "colab_type": "text"
      },
      "source": [
        "<a href=\"https://colab.research.google.com/github/thmswhelan/GAA_Rankings/blob/main/Gaa_Football_Rankings.ipynb\" target=\"_parent\"><img src=\"https://colab.research.google.com/assets/colab-badge.svg\" alt=\"Open In Colab\"/></a>"
      ]
    },
    {
      "cell_type": "code",
      "source": [
        "import requests\n",
        "from bs4 import BeautifulSoup\n",
        "import csv\n",
        "\n",
        "# URL for GAA fixtures or competition page\n",
        "url = \"https://www.gaa.ie/fixtures-results\"\n",
        "\n",
        "# Send HTTP request to fetch the page content\n",
        "response = requests.get(url)\n",
        "\n",
        "# Check if the request was successful\n",
        "if response.status_code == 200:\n",
        "    page_content = response.content\n",
        "    soup = BeautifulSoup(page_content, \"html.parser\")\n",
        "\n",
        "    # Prepare CSV file to save the data\n",
        "    with open('gaa_matches.csv', mode='w', newline='', encoding='utf-8') as file:\n",
        "        writer = csv.writer(file)\n",
        "        # Write headers to the CSV\n",
        "        writer.writerow([\"Competition\", \"Home Team\", \"Away Team\", \"Date\", \"Venue\", \"Home Score\", \"Away Score\"])\n",
        "\n",
        "        # Extract match details\n",
        "        match_details = soup.find_all(\"div\", class_=\"gar-match-item\")\n",
        "\n",
        "        for match in match_details:\n",
        "            # Example of extracting team names\n",
        "            home_team = match.find(\"div\", class_=\"gar-match-item__team -home\")\n",
        "            away_team = match.find(\"div\", class_=\"gar-match-item__team -away\")\n",
        "\n",
        "            # Extract the competition name for each match (assuming it may be inside the match item)\n",
        "            competition = match.find_previous(\"h3\", class_=\"gar-matches-list__group-name\")\n",
        "            competition_name = competition.get_text(strip=True) if competition else \"Unknown Competition\"\n",
        "\n",
        "            # Extract the date of the match\n",
        "            match_date = match.get(\"data-match-date\", \"No date available\")\n",
        "\n",
        "            # Extract the venue for the match\n",
        "            venue = match.find(\"div\", class_=\"gar-match-item__venue\")\n",
        "            venue_name = venue.get_text(strip=True) if venue else \"No venue available\"\n",
        "\n",
        "            # Extract the home and away scores\n",
        "            scores = match.find_all(\"div\", class_=\"gar-match-item__score\")\n",
        "\n",
        "            # If scores are found, we process them correctly\n",
        "            if len(scores) == 2:\n",
        "                home_score = scores[0].get_text(strip=True)\n",
        "                away_score = scores[1].get_text(strip=True)\n",
        "            else:\n",
        "                home_score = \"N/A\"\n",
        "                away_score = \"N/A\"\n",
        "\n",
        "            # If the score contains a date, we make sure to extract only the score\n",
        "            if '-' not in home_score or '-' not in away_score:\n",
        "                home_score = \"Invalid score\"\n",
        "                away_score = \"Invalid score\"\n",
        "\n",
        "            # Get team names\n",
        "            if home_team and away_team:\n",
        "                home_team_name = home_team.get_text(strip=True)\n",
        "                away_team_name = away_team.get_text(strip=True)\n",
        "            else:\n",
        "                home_team_name = \"Unknown\"\n",
        "                away_team_name = \"Unknown\"\n",
        "\n",
        "            # Write each match's data to the CSV file\n",
        "            writer.writerow([competition_name, home_team_name, away_team_name, match_date, venue_name, home_score, away_score])\n",
        "\n",
        "    print(\"Data saved to 'gaa_matches.csv'.\")\n",
        "else:\n",
        "    print(\"Failed to retrieve the page. Status Code:\", response.status_code)\n",
        "\n"
      ],
      "metadata": {
        "id": "OIohkhCLR0Ho",
        "outputId": "b2fe469d-2e2a-4e55-dc08-9528aa2ec3da",
        "colab": {
          "base_uri": "https://localhost:8080/"
        }
      },
      "execution_count": 1,
      "outputs": [
        {
          "output_type": "stream",
          "name": "stdout",
          "text": [
            "Data saved to 'gaa_matches.csv'.\n"
          ]
        }
      ]
    }
  ]
}