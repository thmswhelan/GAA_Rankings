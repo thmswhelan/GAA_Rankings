{
  "nbformat": 4,
  "nbformat_minor": 0,
  "metadata": {
    "colab": {
      "provenance": [],
      "authorship_tag": "ABX9TyOuqFa0IWqXM56lDW6CpEaX",
      "include_colab_link": true
    },
    "kernelspec": {
      "name": "python3",
      "display_name": "Python 3"
    },
    "language_info": {
      "name": "python"
    }
  },
  "cells": [
    {
      "cell_type": "markdown",
      "metadata": {
        "id": "view-in-github",
        "colab_type": "text"
      },
      "source": [
        "<a href=\"https://colab.research.google.com/github/thmswhelan/GAA_Rankings/blob/main/Gaa_Football_Rankings.ipynb\" target=\"_parent\"><img src=\"https://colab.research.google.com/assets/colab-badge.svg\" alt=\"Open In Colab\"/></a>"
      ]
    },
    {
      "cell_type": "code",
      "source": [
        "import requests\n",
        "from bs4 import BeautifulSoup\n",
        "import csv\n",
        "\n",
        "# URL for GAA fixtures or competition page\n",
        "url = \"https://www.gaa.ie/fixtures-results\"\n",
        "\n",
        "# Send HTTP request to fetch the page content\n",
        "response = requests.get(url)\n",
        "\n",
        "# Check if the request was successful\n",
        "if response.status_code == 200:\n",
        "    page_content = response.content\n",
        "    soup = BeautifulSoup(page_content, \"html.parser\")\n",
        "\n",
        "    # Prepare CSV file to save the data\n",
        "    with open('gaa_matches.csv', mode='w', newline='', encoding='utf-8') as file:\n",
        "        writer = csv.writer(file)\n",
        "        # Write headers to the CSV\n",
        "        writer.writerow([\"Competition\", \"Home Team\", \"Away Team\", \"Date\", \"Venue\", \"Home Score\", \"Away Score\"])\n",
        "\n",
        "        # Extract match details\n",
        "        match_details = soup.find_all(\"div\", class_=\"gar-match-item\")\n",
        "\n",
        "        for match in match_details:\n",
        "            # Example of extracting team names\n",
        "            home_team = match.find(\"div\", class_=\"gar-match-item__team -home\")\n",
        "            away_team = match.find(\"div\", class_=\"gar-match-item__team -away\")\n",
        "\n",
        "            # Extract the competition name for each match (assuming it may be inside the match item)\n",
        "            competition = match.find_previous(\"h3\", class_=\"gar-matches-list__group-name\")\n",
        "            competition_name = competition.get_text(strip=True) if competition else \"Unknown Competition\"\n",
        "\n",
        "            # Extract the date of the match\n",
        "            match_date = match.get(\"data-match-date\", \"No date available\")\n",
        "\n",
        "            # Extract the venue for the match\n",
        "            venue = match.find(\"div\", class_=\"gar-match-item__venue\")\n",
        "            venue_name = venue.get_text(strip=True) if venue else \"No venue available\"\n",
        "\n",
        "            # Extract the home and away scores\n",
        "            scores = match.find_all(\"div\", class_=\"gar-match-item__score\")\n",
        "\n",
        "            # If scores are found, we process them correctly\n",
        "            if len(scores) == 2:\n",
        "                home_score = scores[0].get_text(strip=True)\n",
        "                away_score = scores[1].get_text(strip=True)\n",
        "            else:\n",
        "                home_score = \"N/A\"\n",
        "                away_score = \"N/A\"\n",
        "\n",
        "            # If the score contains a date, we make sure to extract only the score\n",
        "            if '-' not in home_score or '-' not in away_score:\n",
        "                home_score = \"Invalid score\"\n",
        "                away_score = \"Invalid score\"\n",
        "\n",
        "            # Get team names\n",
        "            if home_team and away_team:\n",
        "                home_team_name = home_team.get_text(strip=True)\n",
        "                away_team_name = away_team.get_text(strip=True)\n",
        "            else:\n",
        "                home_team_name = \"Unknown\"\n",
        "                away_team_name = \"Unknown\"\n",
        "\n",
        "            # Write each match's data to the CSV file\n",
        "            writer.writerow([competition_name, home_team_name, away_team_name, match_date, venue_name, home_score, away_score])\n",
        "\n",
        "    print(\"Data saved to 'gaa_matches.csv'.\")\n",
        "else:\n",
        "    print(\"Failed to retrieve the page. Status Code:\", response.status_code)\n",
        "\n"
      ],
      "metadata": {
        "id": "OIohkhCLR0Ho",
        "outputId": "f6bb6410-521c-4cc4-90c2-1d2b0cadd635",
        "colab": {
          "base_uri": "https://localhost:8080/"
        }
      },
      "execution_count": 41,
      "outputs": [
        {
          "output_type": "stream",
          "name": "stdout",
          "text": [
            "Data saved to 'gaa_matches.csv'.\n"
          ]
        }
      ]
    },
    {
      "cell_type": "code",
      "source": [
        "!pkill -f chromium-browser || true\n",
        "\n",
        "from selenium import webdriver\n",
        "from selenium.webdriver.chrome.service import Service\n",
        "from selenium.webdriver.chrome.options import Options\n",
        "from webdriver_manager.chrome import ChromeDriverManager\n",
        "import time\n",
        "import pandas as pd\n",
        "\n",
        "chrome_options = Options()\n",
        "chrome_options.binary_location = \"/usr/bin/chromium-browser\"  # Important!\n",
        "chrome_options.add_argument(\"--headless\")  # Necessary in many cases\n",
        "chrome_options.add_argument(\"--no-sandbox\")\n",
        "chrome_options.add_argument(\"--disable-dev-shm-usage\")\n",
        "chrome_options.add_argument(\"--disable-gpu\")\n",
        "chrome_options.add_argument(\"--remote-debugging-port=9222\")  # Important for Chromium\n",
        "chrome_options.add_argument(\"--user-data-dir=/tmp/chrome-temp\")  # Clean profile\n",
        "\n",
        "driver = webdriver.Chrome(service=Service(ChromeDriverManager().install()), options=chrome_options)\n",
        "\n",
        "# Open the GAA fixtures/results page\n",
        "driver.get(\"https://www.gaa.ie/fixtures-results/\")\n",
        "\n",
        "# List of months and years you want\n",
        "years = [2024, 2025]\n",
        "months = list(range(1, 13))  # January (1) to December (12)\n",
        "\n",
        "all_matches = []\n",
        "\n",
        "for year in years:\n",
        "    for month in months:\n",
        "        # Select year\n",
        "        year_select = Select(driver.find_element(By.NAME, 'year'))\n",
        "        year_select.select_by_value(str(year))\n",
        "\n",
        "        # Select month\n",
        "        month_select = Select(driver.find_element(By.NAME, 'month'))\n",
        "        month_select.select_by_value(str(month))\n",
        "\n",
        "        # Wait for the page to reload after selecting\n",
        "        time.sleep(2)  # you might need to adjust timing\n",
        "\n",
        "        # Now scrape the page\n",
        "        matches = driver.find_elements(By.CLASS_NAME, \"gar-match-item\")\n",
        "\n",
        "        for match in matches:\n",
        "            try:\n",
        "                competition = match.find_element(By.CLASS_NAME, \"gar-match-item__competition\").text\n",
        "                home_team = match.find_element(By.CLASS_NAME, \"gar-match-item__team.-home\").text\n",
        "                away_team = match.find_element(By.CLASS_NAME, \"gar-match-item__team.-away\").text\n",
        "                scores = match.find_elements(By.CLASS_NAME, \"gar-match-item__score\")\n",
        "                home_score = scores[0].text if len(scores) > 0 else ''\n",
        "                away_score = scores[1].text if len(scores) > 1 else ''\n",
        "                date = match.find_element(By.CLASS_NAME, \"gar-match-item__date\").text\n",
        "                venue = match.find_element(By.CLASS_NAME, \"gar-match-item__venue\").text\n",
        "\n",
        "                all_matches.append({\n",
        "                    'Competition': competition,\n",
        "                    'Home Team': home_team,\n",
        "                    'Home Score': home_score,\n",
        "                    'Away Team': away_team,\n",
        "                    'Away Score': away_score,\n",
        "                    'Date': date,\n",
        "                    'Venue': venue,\n",
        "                    'Month': month,\n",
        "                    'Year': year\n",
        "                })\n",
        "            except Exception as e:\n",
        "                print(f\"Error extracting match: {e}\")\n",
        "\n",
        "# Close the browser\n",
        "driver.quit()\n",
        "\n",
        "# Save all data to a CSV\n",
        "df = pd.DataFrame(all_matches)\n",
        "df.to_csv(\"gaa_fixtures_results.csv\", index=False)\n"
      ],
      "metadata": {
        "id": "M9jOO98zflXe",
        "outputId": "e118e2aa-d5f1-498c-bd6e-c222cf26fb97",
        "colab": {
          "base_uri": "https://localhost:8080/",
          "height": 738
        }
      },
      "execution_count": 44,
      "outputs": [
        {
          "output_type": "stream",
          "name": "stdout",
          "text": [
            "^C\n"
          ]
        },
        {
          "output_type": "error",
          "ename": "WebDriverException",
          "evalue": "Message: unknown error: Chrome failed to start: exited abnormally.\n  (chrome not reachable)\n  (The process started from chrome location /usr/bin/chromium-browser is no longer running, so ChromeDriver is assuming that Chrome has crashed.)\nStacktrace:\n#0 0x579f6d0434e3 <unknown>\n#1 0x579f6cd72c76 <unknown>\n#2 0x579f6cd9bd78 <unknown>\n#3 0x579f6cd98029 <unknown>\n#4 0x579f6cdd6ccc <unknown>\n#5 0x579f6cdd647f <unknown>\n#6 0x579f6cdcdde3 <unknown>\n#7 0x579f6cda32dd <unknown>\n#8 0x579f6cda434e <unknown>\n#9 0x579f6d0033e4 <unknown>\n#10 0x579f6d0073d7 <unknown>\n#11 0x579f6d011b20 <unknown>\n#12 0x579f6d008023 <unknown>\n#13 0x579f6cfd61aa <unknown>\n#14 0x579f6d02c6b8 <unknown>\n#15 0x579f6d02c847 <unknown>\n#16 0x579f6d03c243 <unknown>\n#17 0x790bb9273ac3 <unknown>\n",
          "traceback": [
            "\u001b[0;31m---------------------------------------------------------------------------\u001b[0m",
            "\u001b[0;31mWebDriverException\u001b[0m                        Traceback (most recent call last)",
            "\u001b[0;32m<ipython-input-44-d60bb885a9de>\u001b[0m in \u001b[0;36m<cell line: 0>\u001b[0;34m()\u001b[0m\n\u001b[1;32m     17\u001b[0m \u001b[0mchrome_options\u001b[0m\u001b[0;34m.\u001b[0m\u001b[0madd_argument\u001b[0m\u001b[0;34m(\u001b[0m\u001b[0;34m\"--user-data-dir=/tmp/chrome-temp\"\u001b[0m\u001b[0;34m)\u001b[0m  \u001b[0;31m# Clean profile\u001b[0m\u001b[0;34m\u001b[0m\u001b[0;34m\u001b[0m\u001b[0m\n\u001b[1;32m     18\u001b[0m \u001b[0;34m\u001b[0m\u001b[0m\n\u001b[0;32m---> 19\u001b[0;31m \u001b[0mdriver\u001b[0m \u001b[0;34m=\u001b[0m \u001b[0mwebdriver\u001b[0m\u001b[0;34m.\u001b[0m\u001b[0mChrome\u001b[0m\u001b[0;34m(\u001b[0m\u001b[0mservice\u001b[0m\u001b[0;34m=\u001b[0m\u001b[0mService\u001b[0m\u001b[0;34m(\u001b[0m\u001b[0mChromeDriverManager\u001b[0m\u001b[0;34m(\u001b[0m\u001b[0;34m)\u001b[0m\u001b[0;34m.\u001b[0m\u001b[0minstall\u001b[0m\u001b[0;34m(\u001b[0m\u001b[0;34m)\u001b[0m\u001b[0;34m)\u001b[0m\u001b[0;34m,\u001b[0m \u001b[0moptions\u001b[0m\u001b[0;34m=\u001b[0m\u001b[0mchrome_options\u001b[0m\u001b[0;34m)\u001b[0m\u001b[0;34m\u001b[0m\u001b[0;34m\u001b[0m\u001b[0m\n\u001b[0m\u001b[1;32m     20\u001b[0m \u001b[0;34m\u001b[0m\u001b[0m\n\u001b[1;32m     21\u001b[0m \u001b[0;31m# Open the GAA fixtures/results page\u001b[0m\u001b[0;34m\u001b[0m\u001b[0;34m\u001b[0m\u001b[0m\n",
            "\u001b[0;32m/usr/local/lib/python3.11/dist-packages/selenium/webdriver/chrome/webdriver.py\u001b[0m in \u001b[0;36m__init__\u001b[0;34m(self, options, service, keep_alive)\u001b[0m\n\u001b[1;32m     43\u001b[0m         \u001b[0moptions\u001b[0m \u001b[0;34m=\u001b[0m \u001b[0moptions\u001b[0m \u001b[0;32mif\u001b[0m \u001b[0moptions\u001b[0m \u001b[0;32melse\u001b[0m \u001b[0mOptions\u001b[0m\u001b[0;34m(\u001b[0m\u001b[0;34m)\u001b[0m\u001b[0;34m\u001b[0m\u001b[0;34m\u001b[0m\u001b[0m\n\u001b[1;32m     44\u001b[0m \u001b[0;34m\u001b[0m\u001b[0m\n\u001b[0;32m---> 45\u001b[0;31m         super().__init__(\n\u001b[0m\u001b[1;32m     46\u001b[0m             \u001b[0mbrowser_name\u001b[0m\u001b[0;34m=\u001b[0m\u001b[0mDesiredCapabilities\u001b[0m\u001b[0;34m.\u001b[0m\u001b[0mCHROME\u001b[0m\u001b[0;34m[\u001b[0m\u001b[0;34m\"browserName\"\u001b[0m\u001b[0;34m]\u001b[0m\u001b[0;34m,\u001b[0m\u001b[0;34m\u001b[0m\u001b[0;34m\u001b[0m\u001b[0m\n\u001b[1;32m     47\u001b[0m             \u001b[0mvendor_prefix\u001b[0m\u001b[0;34m=\u001b[0m\u001b[0;34m\"goog\"\u001b[0m\u001b[0;34m,\u001b[0m\u001b[0;34m\u001b[0m\u001b[0;34m\u001b[0m\u001b[0m\n",
            "\u001b[0;32m/usr/local/lib/python3.11/dist-packages/selenium/webdriver/chromium/webdriver.py\u001b[0m in \u001b[0;36m__init__\u001b[0;34m(self, browser_name, vendor_prefix, options, service, keep_alive)\u001b[0m\n\u001b[1;32m     64\u001b[0m \u001b[0;34m\u001b[0m\u001b[0m\n\u001b[1;32m     65\u001b[0m         \u001b[0;32mtry\u001b[0m\u001b[0;34m:\u001b[0m\u001b[0;34m\u001b[0m\u001b[0;34m\u001b[0m\u001b[0m\n\u001b[0;32m---> 66\u001b[0;31m             \u001b[0msuper\u001b[0m\u001b[0;34m(\u001b[0m\u001b[0;34m)\u001b[0m\u001b[0;34m.\u001b[0m\u001b[0m__init__\u001b[0m\u001b[0;34m(\u001b[0m\u001b[0mcommand_executor\u001b[0m\u001b[0;34m=\u001b[0m\u001b[0mexecutor\u001b[0m\u001b[0;34m,\u001b[0m \u001b[0moptions\u001b[0m\u001b[0;34m=\u001b[0m\u001b[0moptions\u001b[0m\u001b[0;34m)\u001b[0m\u001b[0;34m\u001b[0m\u001b[0;34m\u001b[0m\u001b[0m\n\u001b[0m\u001b[1;32m     67\u001b[0m         \u001b[0;32mexcept\u001b[0m \u001b[0mException\u001b[0m\u001b[0;34m:\u001b[0m\u001b[0;34m\u001b[0m\u001b[0;34m\u001b[0m\u001b[0m\n\u001b[1;32m     68\u001b[0m             \u001b[0mself\u001b[0m\u001b[0;34m.\u001b[0m\u001b[0mquit\u001b[0m\u001b[0;34m(\u001b[0m\u001b[0;34m)\u001b[0m\u001b[0;34m\u001b[0m\u001b[0;34m\u001b[0m\u001b[0m\n",
            "\u001b[0;32m/usr/local/lib/python3.11/dist-packages/selenium/webdriver/remote/webdriver.py\u001b[0m in \u001b[0;36m__init__\u001b[0;34m(self, command_executor, keep_alive, file_detector, options, locator_converter, web_element_cls, client_config)\u001b[0m\n\u001b[1;32m    248\u001b[0m         \u001b[0mself\u001b[0m\u001b[0;34m.\u001b[0m\u001b[0m_authenticator_id\u001b[0m \u001b[0;34m=\u001b[0m \u001b[0;32mNone\u001b[0m\u001b[0;34m\u001b[0m\u001b[0;34m\u001b[0m\u001b[0m\n\u001b[1;32m    249\u001b[0m         \u001b[0mself\u001b[0m\u001b[0;34m.\u001b[0m\u001b[0mstart_client\u001b[0m\u001b[0;34m(\u001b[0m\u001b[0;34m)\u001b[0m\u001b[0;34m\u001b[0m\u001b[0;34m\u001b[0m\u001b[0m\n\u001b[0;32m--> 250\u001b[0;31m         \u001b[0mself\u001b[0m\u001b[0;34m.\u001b[0m\u001b[0mstart_session\u001b[0m\u001b[0;34m(\u001b[0m\u001b[0mcapabilities\u001b[0m\u001b[0;34m)\u001b[0m\u001b[0;34m\u001b[0m\u001b[0;34m\u001b[0m\u001b[0m\n\u001b[0m\u001b[1;32m    251\u001b[0m         \u001b[0mself\u001b[0m\u001b[0;34m.\u001b[0m\u001b[0m_fedcm\u001b[0m \u001b[0;34m=\u001b[0m \u001b[0mFedCM\u001b[0m\u001b[0;34m(\u001b[0m\u001b[0mself\u001b[0m\u001b[0;34m)\u001b[0m\u001b[0;34m\u001b[0m\u001b[0;34m\u001b[0m\u001b[0m\n\u001b[1;32m    252\u001b[0m \u001b[0;34m\u001b[0m\u001b[0m\n",
            "\u001b[0;32m/usr/local/lib/python3.11/dist-packages/selenium/webdriver/remote/webdriver.py\u001b[0m in \u001b[0;36mstart_session\u001b[0;34m(self, capabilities)\u001b[0m\n\u001b[1;32m    340\u001b[0m \u001b[0;34m\u001b[0m\u001b[0m\n\u001b[1;32m    341\u001b[0m         \u001b[0mcaps\u001b[0m \u001b[0;34m=\u001b[0m \u001b[0m_create_caps\u001b[0m\u001b[0;34m(\u001b[0m\u001b[0mcapabilities\u001b[0m\u001b[0;34m)\u001b[0m\u001b[0;34m\u001b[0m\u001b[0;34m\u001b[0m\u001b[0m\n\u001b[0;32m--> 342\u001b[0;31m         \u001b[0mresponse\u001b[0m \u001b[0;34m=\u001b[0m \u001b[0mself\u001b[0m\u001b[0;34m.\u001b[0m\u001b[0mexecute\u001b[0m\u001b[0;34m(\u001b[0m\u001b[0mCommand\u001b[0m\u001b[0;34m.\u001b[0m\u001b[0mNEW_SESSION\u001b[0m\u001b[0;34m,\u001b[0m \u001b[0mcaps\u001b[0m\u001b[0;34m)\u001b[0m\u001b[0;34m[\u001b[0m\u001b[0;34m\"value\"\u001b[0m\u001b[0;34m]\u001b[0m\u001b[0;34m\u001b[0m\u001b[0;34m\u001b[0m\u001b[0m\n\u001b[0m\u001b[1;32m    343\u001b[0m         \u001b[0mself\u001b[0m\u001b[0;34m.\u001b[0m\u001b[0msession_id\u001b[0m \u001b[0;34m=\u001b[0m \u001b[0mresponse\u001b[0m\u001b[0;34m.\u001b[0m\u001b[0mget\u001b[0m\u001b[0;34m(\u001b[0m\u001b[0;34m\"sessionId\"\u001b[0m\u001b[0;34m)\u001b[0m\u001b[0;34m\u001b[0m\u001b[0;34m\u001b[0m\u001b[0m\n\u001b[1;32m    344\u001b[0m         \u001b[0mself\u001b[0m\u001b[0;34m.\u001b[0m\u001b[0mcaps\u001b[0m \u001b[0;34m=\u001b[0m \u001b[0mresponse\u001b[0m\u001b[0;34m.\u001b[0m\u001b[0mget\u001b[0m\u001b[0;34m(\u001b[0m\u001b[0;34m\"capabilities\"\u001b[0m\u001b[0;34m)\u001b[0m\u001b[0;34m\u001b[0m\u001b[0;34m\u001b[0m\u001b[0m\n",
            "\u001b[0;32m/usr/local/lib/python3.11/dist-packages/selenium/webdriver/remote/webdriver.py\u001b[0m in \u001b[0;36mexecute\u001b[0;34m(self, driver_command, params)\u001b[0m\n\u001b[1;32m    427\u001b[0m         \u001b[0mresponse\u001b[0m \u001b[0;34m=\u001b[0m \u001b[0mself\u001b[0m\u001b[0;34m.\u001b[0m\u001b[0mcommand_executor\u001b[0m\u001b[0;34m.\u001b[0m\u001b[0mexecute\u001b[0m\u001b[0;34m(\u001b[0m\u001b[0mdriver_command\u001b[0m\u001b[0;34m,\u001b[0m \u001b[0mparams\u001b[0m\u001b[0;34m)\u001b[0m\u001b[0;34m\u001b[0m\u001b[0;34m\u001b[0m\u001b[0m\n\u001b[1;32m    428\u001b[0m         \u001b[0;32mif\u001b[0m \u001b[0mresponse\u001b[0m\u001b[0;34m:\u001b[0m\u001b[0;34m\u001b[0m\u001b[0;34m\u001b[0m\u001b[0m\n\u001b[0;32m--> 429\u001b[0;31m             \u001b[0mself\u001b[0m\u001b[0;34m.\u001b[0m\u001b[0merror_handler\u001b[0m\u001b[0;34m.\u001b[0m\u001b[0mcheck_response\u001b[0m\u001b[0;34m(\u001b[0m\u001b[0mresponse\u001b[0m\u001b[0;34m)\u001b[0m\u001b[0;34m\u001b[0m\u001b[0;34m\u001b[0m\u001b[0m\n\u001b[0m\u001b[1;32m    430\u001b[0m             \u001b[0mresponse\u001b[0m\u001b[0;34m[\u001b[0m\u001b[0;34m\"value\"\u001b[0m\u001b[0;34m]\u001b[0m \u001b[0;34m=\u001b[0m \u001b[0mself\u001b[0m\u001b[0;34m.\u001b[0m\u001b[0m_unwrap_value\u001b[0m\u001b[0;34m(\u001b[0m\u001b[0mresponse\u001b[0m\u001b[0;34m.\u001b[0m\u001b[0mget\u001b[0m\u001b[0;34m(\u001b[0m\u001b[0;34m\"value\"\u001b[0m\u001b[0;34m,\u001b[0m \u001b[0;32mNone\u001b[0m\u001b[0;34m)\u001b[0m\u001b[0;34m)\u001b[0m\u001b[0;34m\u001b[0m\u001b[0;34m\u001b[0m\u001b[0m\n\u001b[1;32m    431\u001b[0m             \u001b[0;32mreturn\u001b[0m \u001b[0mresponse\u001b[0m\u001b[0;34m\u001b[0m\u001b[0;34m\u001b[0m\u001b[0m\n",
            "\u001b[0;32m/usr/local/lib/python3.11/dist-packages/selenium/webdriver/remote/errorhandler.py\u001b[0m in \u001b[0;36mcheck_response\u001b[0;34m(self, response)\u001b[0m\n\u001b[1;32m    230\u001b[0m                 \u001b[0malert_text\u001b[0m \u001b[0;34m=\u001b[0m \u001b[0mvalue\u001b[0m\u001b[0;34m[\u001b[0m\u001b[0;34m\"alert\"\u001b[0m\u001b[0;34m]\u001b[0m\u001b[0;34m.\u001b[0m\u001b[0mget\u001b[0m\u001b[0;34m(\u001b[0m\u001b[0;34m\"text\"\u001b[0m\u001b[0;34m)\u001b[0m\u001b[0;34m\u001b[0m\u001b[0;34m\u001b[0m\u001b[0m\n\u001b[1;32m    231\u001b[0m             \u001b[0;32mraise\u001b[0m \u001b[0mexception_class\u001b[0m\u001b[0;34m(\u001b[0m\u001b[0mmessage\u001b[0m\u001b[0;34m,\u001b[0m \u001b[0mscreen\u001b[0m\u001b[0;34m,\u001b[0m \u001b[0mstacktrace\u001b[0m\u001b[0;34m,\u001b[0m \u001b[0malert_text\u001b[0m\u001b[0;34m)\u001b[0m  \u001b[0;31m# type: ignore[call-arg]  # mypy is not smart enough here\u001b[0m\u001b[0;34m\u001b[0m\u001b[0;34m\u001b[0m\u001b[0m\n\u001b[0;32m--> 232\u001b[0;31m         \u001b[0;32mraise\u001b[0m \u001b[0mexception_class\u001b[0m\u001b[0;34m(\u001b[0m\u001b[0mmessage\u001b[0m\u001b[0;34m,\u001b[0m \u001b[0mscreen\u001b[0m\u001b[0;34m,\u001b[0m \u001b[0mstacktrace\u001b[0m\u001b[0;34m)\u001b[0m\u001b[0;34m\u001b[0m\u001b[0;34m\u001b[0m\u001b[0m\n\u001b[0m",
            "\u001b[0;31mWebDriverException\u001b[0m: Message: unknown error: Chrome failed to start: exited abnormally.\n  (chrome not reachable)\n  (The process started from chrome location /usr/bin/chromium-browser is no longer running, so ChromeDriver is assuming that Chrome has crashed.)\nStacktrace:\n#0 0x579f6d0434e3 <unknown>\n#1 0x579f6cd72c76 <unknown>\n#2 0x579f6cd9bd78 <unknown>\n#3 0x579f6cd98029 <unknown>\n#4 0x579f6cdd6ccc <unknown>\n#5 0x579f6cdd647f <unknown>\n#6 0x579f6cdcdde3 <unknown>\n#7 0x579f6cda32dd <unknown>\n#8 0x579f6cda434e <unknown>\n#9 0x579f6d0033e4 <unknown>\n#10 0x579f6d0073d7 <unknown>\n#11 0x579f6d011b20 <unknown>\n#12 0x579f6d008023 <unknown>\n#13 0x579f6cfd61aa <unknown>\n#14 0x579f6d02c6b8 <unknown>\n#15 0x579f6d02c847 <unknown>\n#16 0x579f6d03c243 <unknown>\n#17 0x790bb9273ac3 <unknown>\n"
          ]
        }
      ]
    }
  ]
}